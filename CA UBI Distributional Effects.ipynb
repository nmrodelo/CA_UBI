{
 "cells": [
  {
   "cell_type": "code",
   "execution_count": 4,
   "metadata": {},
   "outputs": [],
   "source": [
    "###USING 3 YEARS OF ASEC MARCH DATA\n",
    "###ENSURE TO GROUP BY SPM UNIT AND YEAR\n",
    "\n",
    "import numpy as np\n",
    "import pandas as pd\n",
    "import microdf as mdf"
   ]
  },
  {
   "cell_type": "code",
   "execution_count": 5,
   "metadata": {},
   "outputs": [],
   "source": [
    "raw = pd.read_csv(r\"C:\\Users\\nicho\\CA_UBI\\RAW_DATA\\cps_00012.csv\")"
   ]
  },
  {
   "cell_type": "code",
   "execution_count": 28,
   "metadata": {},
   "outputs": [],
   "source": [
    "#VAR LIST: MONTH\tCPSID\tASECFLAG\tASECWTH\tSTATEFIP\tCOUNTY\tPERNUM\tCPSIDP\tASECWT\tAGE\tSEX\tRACE\t\n",
    "#MARST\tVETSTAT\tHISPAN\tINCTOT\tSPMTOTRES\tSPMTHRESH\tSPMFAMUNIT\tMIGSTA1\n",
    "\n",
    "person = raw.copy(deep=True)\n",
    "\n",
    "#Calculate Weight\n",
    "person['w'] = person.ASECWT/100\n",
    "\n",
    "#Calculate People in Poverty based on SPM Threshold\n",
    "person['Poor'] = person.SPMTOTRES < person.SPMTHRESH\n",
    "\n",
    "person.INCTOT.replace({999999999 : 0 }, inplace = True)\n",
    "\n",
    "#Ignore non-CA residents\n",
    "person.drop(person[person['STATEFIP'] != 6].index, inplace = True) \n",
    "\n",
    "\n",
    "\n",
    "\n",
    "#Gen variable with county name\n",
    "\n",
    "person['COUNTY_NAME'] = person['COUNTY'].map({ '001': 'Alameda', '007': 'Butte', '013': 'Contra Costa', '017': 'El Dorado', '019': 'Fresno', '023': 'Humboldt', '025': 'Imperial', '029': 'Kern', '031': 'Kings',\n",
    "                                              '037': 'Los Angeles', '039': 'Madera', '041': 'Marin', '047': 'Merced', '053': 'Monterey', '055': 'Napa', '059': 'Orange', '061': 'Placer', '065': 'Riverside',\n",
    "                                              '067': 'Sacramento', '071': 'San Bernardino', '073': 'San Diego', '075': 'San Francisco', '077': 'San Joaquin', '079': 'San Luis Obispo', '081': 'San Mateo', '083':\n",
    "                                              'Santa Barbara', '087': 'Santa Cruz', '089': 'Shasta', '095': 'Solano', '097': 'Sonoma', '099': 'Stanislaus', '107': 'Tulare', '111': 'Ventura', '113': 'Yolo'})\n",
    "\n",
    "\n",
    "\n",
    "#Calculating median income by county\n",
    "\n",
    "person = mdf.MicroDataFrame(person, weights = \"ASECWT\")\n",
    "\n",
    "county = person[person.INCTOT > 0].groupby('COUNTY')[['INCTOT']].median().reset_index()\n",
    "\n",
    "county.rename(columns = {'INCTOT' : 'MED_COUNTY_INC'}, inplace = True)\n",
    "\n",
    "#county"
   ]
  },
  {
   "cell_type": "code",
   "execution_count": 40,
   "metadata": {},
   "outputs": [],
   "source": [
    "person2 = mdf.MicroDataFrame(person.merge(county, on = 'COUNTY'), weights = \"ASECWT\")\n"
   ]
  },
  {
   "cell_type": "code",
   "execution_count": 41,
   "metadata": {},
   "outputs": [],
   "source": [
    "#Define the eligible as being 18 or older and making less than two times their county's median income\n",
    "\n",
    "person2['ELIGIBLE'] = np.where((person2['AGE'] >= 18) & (person2['INCTOT'] < (2 * person2['MED_COUNTY_INC'])) & \n",
    "                                                         (person2['MIGSTA1'] != 6),1,0)"
   ]
  },
  {
   "cell_type": "code",
   "execution_count": 49,
   "metadata": {},
   "outputs": [],
   "source": [
    "spmu =  person2.groupby(['YEAR', 'SPMFAMUNIT'])[['ELIGIBLE']].sum().reset_index()\n",
    "spmu.rename(columns = {'ELIGIBLE' : 'SPMU_ELIGIBLE'}, inplace = True)"
   ]
  },
  {
   "cell_type": "code",
   "execution_count": 53,
   "metadata": {},
   "outputs": [],
   "source": [
    "person3 = mdf.MicroDataFrame(person2.merge(spmu, on = ['YEAR', 'SPMFAMUNIT']), weights = 'ASECWT')"
   ]
  },
  {
   "cell_type": "code",
   "execution_count": 55,
   "metadata": {},
   "outputs": [],
   "source": [
    "person3['SPMTOTRESNEW'] = person3['SPMTOTRES'] + 12000 * person3.SPMU_ELIGIBLE"
   ]
  },
  {
   "cell_type": "code",
   "execution_count": 58,
   "metadata": {},
   "outputs": [
    {
     "data": {
      "text/plain": [
       "0.036636156861466"
      ]
     },
     "execution_count": 58,
     "metadata": {},
     "output_type": "execute_result"
    }
   ],
   "source": [
    "person3.poverty_rate('SPMTOTRESNEW', 'SPMTHRESH')"
   ]
  },
  {
   "cell_type": "code",
   "execution_count": 59,
   "metadata": {},
   "outputs": [
    {
     "data": {
      "text/plain": [
       "0.17417376602940388"
      ]
     },
     "execution_count": 59,
     "metadata": {},
     "output_type": "execute_result"
    }
   ],
   "source": [
    "person3.poverty_rate('SPMTOTRES', 'SPMTHRESH')"
   ]
  },
  {
   "cell_type": "code",
   "execution_count": 45,
   "metadata": {},
   "outputs": [
    {
     "data": {
      "text/plain": [
       "262.25057648"
      ]
     },
     "execution_count": 45,
     "metadata": {},
     "output_type": "execute_result"
    }
   ],
   "source": [
    "#Total Cost\n",
    "Eligible_Residents = person2['ELIGIBLE'].sum()\n",
    "\n",
    "Cost_Per_Resident = 12000\n",
    "\n",
    "Total = ((Eligible_Residents * Cost_Per_Resident)/1e9)/3\n",
    "\n",
    "Total\n"
   ]
  },
  {
   "cell_type": "code",
   "execution_count": 62,
   "metadata": {},
   "outputs": [
    {
     "data": {
      "text/plain": [
       "3258.68"
      ]
     },
     "execution_count": 62,
     "metadata": {},
     "output_type": "execute_result"
    }
   ],
   "source": [
    "(person3.INCTOT == 2055999).sum()"
   ]
  }
 ],
 "metadata": {
  "kernelspec": {
   "display_name": "Python 3",
   "language": "python",
   "name": "python3"
  },
  "language_info": {
   "codemirror_mode": {
    "name": "ipython",
    "version": 3
   },
   "file_extension": ".py",
   "mimetype": "text/x-python",
   "name": "python",
   "nbconvert_exporter": "python",
   "pygments_lexer": "ipython3",
   "version": "3.8.5"
  }
 },
 "nbformat": 4,
 "nbformat_minor": 4
}
