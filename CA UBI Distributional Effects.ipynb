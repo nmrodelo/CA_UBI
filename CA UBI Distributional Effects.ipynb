{
 "cells": [
  {
   "cell_type": "code",
   "execution_count": 3,
   "metadata": {},
   "outputs": [],
   "source": [
    "import numpy as np\n",
    "import pandas as pd\n",
    "import microdf as mdf"
   ]
  },
  {
   "cell_type": "code",
   "execution_count": 12,
   "metadata": {},
   "outputs": [
    {
     "name": "stderr",
     "output_type": "stream",
     "text": [
      "b'Skipping line 72: expected 1 fields, saw 2\\nSkipping line 91: expected 1 fields, saw 192\\nSkipping line 92: expected 1 fields, saw 2\\nSkipping line 107: expected 1 fields, saw 2\\nSkipping line 155: expected 1 fields, saw 3\\nSkipping line 167: expected 1 fields, saw 6\\nSkipping line 174: expected 1 fields, saw 6\\nSkipping line 199: expected 1 fields, saw 4\\nSkipping line 203: expected 1 fields, saw 2\\nSkipping line 216: expected 1 fields, saw 2\\nSkipping line 217: expected 1 fields, saw 2\\nSkipping line 223: expected 1 fields, saw 2\\nSkipping line 226: expected 1 fields, saw 2\\nSkipping line 234: expected 1 fields, saw 4\\nSkipping line 240: expected 1 fields, saw 2\\nSkipping line 245: expected 1 fields, saw 2\\nSkipping line 246: expected 1 fields, saw 2\\nSkipping line 247: expected 1 fields, saw 2\\nSkipping line 248: expected 1 fields, saw 2\\nSkipping line 249: expected 1 fields, saw 2\\nSkipping line 255: expected 1 fields, saw 2\\nSkipping line 256: expected 1 fields, saw 2\\nSkipping line 257: expected 1 fields, saw 2\\nSkipping line 258: expected 1 fields, saw 2\\nSkipping line 265: expected 1 fields, saw 2\\nSkipping line 273: expected 1 fields, saw 4\\nSkipping line 278: expected 1 fields, saw 2\\nSkipping line 281: expected 1 fields, saw 2\\nSkipping line 282: expected 1 fields, saw 2\\nSkipping line 286: expected 1 fields, saw 2\\nSkipping line 308: expected 1 fields, saw 2\\nSkipping line 478: expected 1 fields, saw 6\\nSkipping line 479: expected 1 fields, saw 3\\nSkipping line 484: expected 1 fields, saw 6\\nSkipping line 485: expected 1 fields, saw 6\\nSkipping line 492: expected 1 fields, saw 6\\nSkipping line 493: expected 1 fields, saw 6\\nSkipping line 578: expected 1 fields, saw 6\\nSkipping line 585: expected 1 fields, saw 6\\nSkipping line 598: expected 1 fields, saw 6\\nSkipping line 614: expected 1 fields, saw 3\\nSkipping line 622: expected 1 fields, saw 3\\nSkipping line 630: expected 1 fields, saw 3\\nSkipping line 638: expected 1 fields, saw 3\\nSkipping line 646: expected 1 fields, saw 3\\nSkipping line 654: expected 1 fields, saw 3\\nSkipping line 662: expected 1 fields, saw 3\\nSkipping line 880: expected 1 fields, saw 7\\nSkipping line 947: expected 1 fields, saw 2\\nSkipping line 950: expected 1 fields, saw 2\\nSkipping line 968: expected 1 fields, saw 2\\nSkipping line 1003: expected 1 fields, saw 2\\nSkipping line 1004: expected 1 fields, saw 3\\nSkipping line 1005: expected 1 fields, saw 3\\nSkipping line 1006: expected 1 fields, saw 3\\nSkipping line 1007: expected 1 fields, saw 3\\nSkipping line 1008: expected 1 fields, saw 3\\nSkipping line 1015: expected 1 fields, saw 3\\nSkipping line 1016: expected 1 fields, saw 3\\nSkipping line 1017: expected 1 fields, saw 3\\nSkipping line 1018: expected 1 fields, saw 3\\nSkipping line 1019: expected 1 fields, saw 3\\nSkipping line 1020: expected 1 fields, saw 3\\n'\n"
     ]
    }
   ],
   "source": [
    "raw = pd.read_csv(\"https://github.com/nmrodelo/CA_UBI/blob/main/RAW_DATA/cps_00012.csv\", error_bad_lines = False)"
   ]
  },
  {
   "cell_type": "code",
   "execution_count": null,
   "metadata": {},
   "outputs": [],
   "source": []
  }
 ],
 "metadata": {
  "kernelspec": {
   "display_name": "Python 3",
   "language": "python",
   "name": "python3"
  },
  "language_info": {
   "codemirror_mode": {
    "name": "ipython",
    "version": 3
   },
   "file_extension": ".py",
   "mimetype": "text/x-python",
   "name": "python",
   "nbconvert_exporter": "python",
   "pygments_lexer": "ipython3",
   "version": "3.8.5"
  }
 },
 "nbformat": 4,
 "nbformat_minor": 4
}
